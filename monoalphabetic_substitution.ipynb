{
 "cells": [
  {
   "cell_type": "code",
   "execution_count": 3,
   "metadata": {},
   "outputs": [],
   "source": [
    "import sys, random"
   ]
  },
  {
   "cell_type": "code",
   "execution_count": 4,
   "metadata": {},
   "outputs": [],
   "source": [
    "LETTERS= 'abcdefghijklmnopqrstuvwxyz'#有空格加入到字母表参与排序"
   ]
  },
  {
   "cell_type": "code",
   "execution_count": 18,
   "metadata": {},
   "outputs": [],
   "source": [
    "#因为后面很多函数都需要将文字标准化(统一大小写，去掉标点空格等非字母符号，去掉换行符号)\n",
    "def StandardizeText(text):\n",
    "    text = text.lower()\n",
    "    text = text.replace('\\n','')\n",
    "    newText = []\n",
    "    for letter in text:\n",
    "        if letter.isalpha():\n",
    "            newText.append(letter)\n",
    "        \n",
    "    return ''.join(newText)"
   ]
  },
  {
   "cell_type": "markdown",
   "metadata": {},
   "source": [
    "这一段主要是检查密钥是否正确,如果不正确输出错误提示,然后sys.exit终止程序"
   ]
  },
  {
   "cell_type": "code",
   "execution_count": 19,
   "metadata": {},
   "outputs": [],
   "source": [
    "def checkValidKey(key):\n",
    "    if key.isupper():\n",
    "        key=key.lower()\n",
    "    keyList = list(key)\n",
    "    lettersList = list(LETTERS)\n",
    "    keyList.sort()\n",
    "    lettersList.sort()\n",
    "    if keyList != lettersList:\n",
    "        sys.exit('There is an error in the key or symbol set.')\n",
    "    return "
   ]
  },
  {
   "cell_type": "markdown",
   "metadata": {},
   "source": [
    "函数5letters用于把文字中的所有字母分解为五个字母为一组"
   ]
  },
  {
   "cell_type": "code",
   "execution_count": 20,
   "metadata": {},
   "outputs": [],
   "source": [
    "def lettersV(message):\n",
    "    message = StandardizeText(message) #文字标准化\n",
    "    message1 = []\n",
    "    for letter in message:\n",
    "        if letter.isalpha():\n",
    "            message1.append(letter)\n",
    "            \n",
    "    k = len(message1)\n",
    "    translated = []\n",
    "    \n",
    "    for i in list(range(k)):\n",
    "        letterV = ''.join(message1[i*5:i*5+5])\n",
    "        letterV+= ' '\n",
    "        translated.append(letterV)\n",
    "        \n",
    "    return ''.join(translated)"
   ]
  },
  {
   "cell_type": "code",
   "execution_count": 21,
   "metadata": {},
   "outputs": [],
   "source": [
    "message = '''\n",
    "The second Klan was founded in Georgia in 1915 and it flourished nationwide in the early and mid-1920s, including urban areas of the Midwest and West. Taking inspiration from D. W. Griffith's 1915 silent film The Birth of a Nation, which mythologized the founding of the first Klan, it employed marketing techniques and a popular fraternal organization structure. Rooted in local Protestant communities, it sought to maintain white supremacy, often took a pro-Prohibition stance, and it opposed Catholics and Jews, while also stressing its opposition to the alleged political power of the Pope and the Catholic Church. This second organization was funded by selling its members a standard white costume. It used K-words which were similar to those used by the first Klan, while adding cross burnings and mass parades to intimidate others. It rapidly declined in the later half of the 1920s. \n",
    "'''"
   ]
  },
  {
   "cell_type": "code",
   "execution_count": 22,
   "metadata": {},
   "outputs": [
    {
     "data": {
      "text/plain": [
       "'these condk lanwa sfoun dedin georg iaina nditf louri shedn ation widei nthee arlya ndmid sincl uding urban areas ofthe midwe stand westt aking inspi ratio nfrom dwgri ffith ssile ntfil mtheb irtho fanat ionwh ichmy tholo gized thefo undin gofth efirs tklan itemp loyed marke tingt echni quesa ndapo pular frate rnalo rgani zatio nstru cture roote dinlo calpr otest antco mmuni tiesi tsoug httom ainta inwhi tesup remac yofte ntook aprop rohib ition stanc eandi toppo sedca tholi csand jewsw hilea lsost ressi ngits oppos ition tothe alleg edpol itica lpowe rofth epope andth ecath olicc hurch thiss econd organ izati onwas funde dbyse lling itsme mbers astan dardw hitec ostum eitus edkwo rdswh ichwe resim ilart othos eused bythe first klanw hilea dding cross burni ngsan dmass parad estoi ntimi dateo thers itrap idlyd eclin edint helat erhal fofth es                                                                                                                                                                                                                                                                                                                                                                                                                                                                                                                                                                                          '"
      ]
     },
     "execution_count": 22,
     "metadata": {},
     "output_type": "execute_result"
    }
   ],
   "source": [
    "lettersV(message)"
   ]
  },
  {
   "cell_type": "markdown",
   "metadata": {},
   "source": [
    "因为该密码加密和解密是互逆的,因此写在一个函数里面,并用mode这个变量控制.当mode=encrypt的时候加密,\n",
    "mode=decrypt的时候则为解密.加密(解密)过程的实现很简单,LETTERS里面26个字母如果在材料(message)里面出现\n",
    "则替换密钥相同位置的字母.这部分通过:\n",
    "\n",
    "    symIndex = charsA.find(symbol)\n",
    "    translated += charsB[symIndex]\n",
    "\n",
    "两句实现,message中遇到字母symbol则通过find()函数找到在LETTERS(key)中的位置,并找到对应位置key(LETTERS)\n",
    "对应的字母.\n",
    "\n",
    "这就是以LETTERS(key)$\\to$key(LETTERS)的映射作为改密码的加密和解密过程"
   ]
  },
  {
   "cell_type": "code",
   "execution_count": 23,
   "metadata": {},
   "outputs": [],
   "source": [
    "\n",
    "    #加密函数\n",
    "def MonoAlphabeticCipher(key, message, mode):\n",
    "    message = lettersV(message)\n",
    "    checkValidKey(key) #检查密钥\n",
    "    translated = ''\n",
    "    charsA = LETTERS\n",
    "    charsB = key\n",
    "    if mode == 'decrypt':            \n",
    "        charsA, charsB = charsB, charsA\n",
    "    for symbol in message:\n",
    "        if symbol in charsA:\n",
    "            symIndex = charsA.find(symbol)\n",
    "            translated += charsB[symIndex]\n",
    "        else:\n",
    "            translated += symbol\n",
    "    return translated \n"
   ]
  },
  {
   "cell_type": "code",
   "execution_count": 24,
   "metadata": {},
   "outputs": [],
   "source": [
    "def getRandomKey():\n",
    "    key = list(LETTERS)\n",
    "    random.shuffle(key)\n",
    "    return ''.join(key)"
   ]
  },
  {
   "cell_type": "code",
   "execution_count": 25,
   "metadata": {},
   "outputs": [
    {
     "data": {
      "text/plain": [
       "'cbimxylsfrahvzdgqjeoptwunk'"
      ]
     },
     "execution_count": 25,
     "metadata": {},
     "output_type": "execute_result"
    }
   ],
   "source": [
    "key = getRandomKey()\n",
    "key"
   ]
  },
  {
   "cell_type": "code",
   "execution_count": 26,
   "metadata": {},
   "outputs": [],
   "source": [
    "cipher = MonoAlphabeticCipher(key, message,'encrypt')"
   ]
  },
  {
   "cell_type": "code",
   "execution_count": 27,
   "metadata": {},
   "outputs": [
    {
     "data": {
      "text/plain": [
       "'these condk lanwa sfoun dedin georg iaina nditf louri shedn ation widei nthee arlya ndmid sincl uding urban areas ofthe midwe stand westt aking inspi ratio nfrom dwgri ffith ssile ntfil mtheb irtho fanat ionwh ichmy tholo gized thefo undin gofth efirs tklan itemp loyed marke tingt echni quesa ndapo pular frate rnalo rgani zatio nstru cture roote dinlo calpr otest antco mmuni tiesi tsoug httom ainta inwhi tesup remac yofte ntook aprop rohib ition stanc eandi toppo sedca tholi csand jewsw hilea lsost ressi ngits oppos ition tothe alleg edpol itica lpowe rofth epope andth ecath olicc hurch thiss econd organ izati onwas funde dbyse lling itsme mbers astan dardw hitec ostum eitus edkwo rdswh ichwe resim ilart othos eused bythe first klanw hilea dding cross burni ngsan dmass parad estoi ntimi dateo thers itrap idlyd eclin edint helat erhal fofth es                                                                                                                                                                                                                                                                                                                                                                                                                                                                                                                                                                                          '"
      ]
     },
     "execution_count": 27,
     "metadata": {},
     "output_type": "execute_result"
    }
   ],
   "source": [
    "MonoAlphabeticCipher(key,cipher,'decrypt')"
   ]
  }
 ],
 "metadata": {
  "kernelspec": {
   "display_name": "Python 3",
   "language": "python",
   "name": "python3"
  },
  "language_info": {
   "codemirror_mode": {
    "name": "ipython",
    "version": 3
   },
   "file_extension": ".py",
   "mimetype": "text/x-python",
   "name": "python",
   "nbconvert_exporter": "python",
   "pygments_lexer": "ipython3",
   "version": "3.7.1"
  }
 },
 "nbformat": 4,
 "nbformat_minor": 2
}
