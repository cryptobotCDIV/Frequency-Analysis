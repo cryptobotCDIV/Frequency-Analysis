{
 "cells": [
  {
   "cell_type": "code",
   "execution_count": 28,
   "metadata": {},
   "outputs": [],
   "source": [
    "%run monoalphabetic_substitution.ipynb"
   ]
  },
  {
   "cell_type": "markdown",
   "metadata": {},
   "source": [
    "## Histogram下的频率分析"
   ]
  },
  {
   "cell_type": "markdown",
   "metadata": {},
   "source": [
    "首先咱们尝试最简单的方案,即简单的比较密文(Cipher Text)当中字母的频率与大数据结果的差异,并通过类似于$\\chi^2$test的方法来评判\n",
    "\n",
    "通过简单的频率分析后的密钥解密出来的结果与正常英文材料之间的差异.并通过调整密钥中字母以及符号的排列顺序使得结果更好."
   ]
  },
  {
   "cell_type": "markdown",
   "metadata": {},
   "source": [
    "### 0:准备"
   ]
  },
  {
   "cell_type": "markdown",
   "metadata": {},
   "source": [
    "**0.1** 这一步首先LETTERS里面确认key包含的符号,也就是哪些符号需要参与替换"
   ]
  },
  {
   "cell_type": "code",
   "execution_count": 44,
   "metadata": {},
   "outputs": [],
   "source": [
    "LETTERS = 'abcdefghijklmnopqrstuvwxyz'"
   ]
  },
  {
   "cell_type": "code",
   "execution_count": 45,
   "metadata": {},
   "outputs": [],
   "source": [
    "#因为后面很多函数都需要将文字标准化(统一大小写，去掉标点空格等非字母符号，去掉换行符号)\n",
    "def StandardizeText(text):\n",
    "    text = text.lower()\n",
    "    text = text.replace('\\n','')\n",
    "    newText = []\n",
    "    for letter in text:\n",
    "        if letter.isalpha():\n",
    "            newText.append(letter)\n",
    "        \n",
    "    return ''.join(newText)"
   ]
  },
  {
   "cell_type": "markdown",
   "metadata": {},
   "source": [
    "**0.2** 这一步需要建立letterCount的值为0的字典用于之后计算频数,频率以及排序"
   ]
  },
  {
   "cell_type": "markdown",
   "metadata": {},
   "source": [
    "### 1:建立计算频数并排序的函数HistogramFreqExtract"
   ]
  },
  {
   "cell_type": "code",
   "execution_count": 46,
   "metadata": {},
   "outputs": [],
   "source": [
    "import numpy as np\n",
    "from itertools import repeat"
   ]
  },
  {
   "cell_type": "code",
   "execution_count": 47,
   "metadata": {},
   "outputs": [],
   "source": [
    "def HistogramFreqExtract(message):\n",
    "# 0.每次提取都要让leterCount归零\n",
    "    letterCount = dict(zip(list(LETTERS),list(repeat(0,26))))\n",
    "# 1.算出文章中字母的个数\n",
    "    message = StandardizeText(message) #先标准化\n",
    "    AlphaNumber = 0\n",
    "    for letter in message:\n",
    "        if letter in LETTERS:\n",
    "            AlphaNumber += 1\n",
    "# 2.算出字母的频数\n",
    "    for letter in message:   \n",
    "        if letter in LETTERS:\n",
    "            letterCount[letter] += 1 \n",
    "# 3.算出字母的频率\n",
    "\n",
    "    MessageCount = list(letterCount.values())\n",
    "    MessageFreqArray = (np.asarray(MessageCount)/AlphaNumber)*100\n",
    "    MessageFreqList = MessageFreqArray.tolist()# numpy中的函数,能把array变成list\n",
    "    DictLetterFreq = dict(zip(list(letterCount.keys()),MessageFreqList)) #两个list通过zip()变成有序对,然后dict()变成字典 \n",
    "\n",
    "    return DictLetterFreq"
   ]
  },
  {
   "cell_type": "markdown",
   "metadata": {},
   "source": [
    "### 2:提取总体的频率作为保准频率"
   ]
  },
  {
   "cell_type": "markdown",
   "metadata": {},
   "source": [
    "这一步需要一个英语文字(或者其他类似语言)的范本,数据量要足够的大,下面会把这个范本里面的字符的频率提取出来作为标准频率"
   ]
  },
  {
   "cell_type": "code",
   "execution_count": 48,
   "metadata": {},
   "outputs": [],
   "source": [
    "with open('english.txt', 'r') as EnglishData:\n",
    "    EnglishData = EnglishData.read()\n",
    "HistoramNumFreq = HistogramFreqExtract(EnglishData)"
   ]
  },
  {
   "cell_type": "markdown",
   "metadata": {},
   "source": [
    "### 3:建立评价函数"
   ]
  },
  {
   "cell_type": "code",
   "execution_count": 49,
   "metadata": {},
   "outputs": [],
   "source": [
    "def HistogramMatchScore(message):\n",
    "    LetterFreqList = list(HistogramFreqExtract(message).values())\n",
    "    HistogramFreqList = list(HistoramNumFreq.values())\n",
    "    LetterFreqArray = np.asarray(LetterFreqList)\n",
    "    HistogramFreqArray = np.asarray(HistogramFreqList)\n",
    "    Score = sum(np.absolute(LetterFreqArray-HistogramFreqArray))\n",
    "    return Score"
   ]
  },
  {
   "cell_type": "markdown",
   "metadata": {},
   "source": [
    "### 4:建立分析函数"
   ]
  },
  {
   "cell_type": "markdown",
   "metadata": {},
   "source": [
    "**4.1** 一些前期准备"
   ]
  },
  {
   "cell_type": "code",
   "execution_count": 50,
   "metadata": {},
   "outputs": [],
   "source": [
    "# 这个函数会用于排序\n",
    "def getItemAtIndexOne(x):\n",
    "    return x[1]\n",
    "def getItemAtIndexZero(x):\n",
    "    return x[0]"
   ]
  },
  {
   "cell_type": "markdown",
   "metadata": {},
   "source": [
    "之所以要排序,是因为后面建立评价函数的时候,是样本的各个符号对应的频率和总体的大数据对应符号的频率做差.所以一定是**相同符号频率的差**,所以为了统一处理需要做一个排序"
   ]
  },
  {
   "cell_type": "code",
   "execution_count": 51,
   "metadata": {},
   "outputs": [],
   "source": [
    "# 建立交换key中任何两个字符位置的函数\n",
    "def Swap(key,symbolA,symbolB):\n",
    "    ListKey = list(key)\n",
    "    ListKey[key.find(symbolA)],ListKey[key.find(symbolB)] = ListKey[key.find(symbolB)],ListKey[key.find(symbolA)]\n",
    "    key = ''.join(ListKey)\n",
    "    return key"
   ]
  },
  {
   "cell_type": "markdown",
   "metadata": {},
   "source": [
    "下面这个函数是给密钥中的字符按照频率顺序排序,这将作为最后分析函数密钥的**初始值**\n",
    "\n",
    "注意这个函数也是要用于bigram皮女郎分析函数当中的初始值的"
   ]
  },
  {
   "cell_type": "code",
   "execution_count": 52,
   "metadata": {},
   "outputs": [],
   "source": [
    "# 这个函数是把字母按照频率由高到低进行排序的函数\n",
    "# 定义这个函数有五个步骤\n",
    "def FreqOrderkey(message):\n",
    "    message = StandardizeText(message)\n",
    "# 1.得到按照频率由高到低的排序\n",
    "    letterToFreq =HistogramFreqExtract(message)\n",
    "    freqPairs = list(letterToFreq.items())\n",
    "    freqPairs.sort(key=getItemAtIndexOne, reverse=True)\n",
    "    \n",
    "    freqOrder = []\n",
    "    for freqPair in freqPairs:\n",
    "        freqOrder.append(freqPair[0])\n",
    "        \n",
    "\n",
    "    return ''.join(freqOrder)"
   ]
  },
  {
   "cell_type": "code",
   "execution_count": 53,
   "metadata": {},
   "outputs": [],
   "source": [
    "# 建立一个密钥转换函数:把按照频率对应的密钥,即对应' etaoi...'的密钥转换成对应' abcde....'的密钥\n",
    "def convertKey(freqOrder):\n",
    "    keyList = freqOrder\n",
    "    etaoiList = list('etaoinshrdlcumwfgypbvkjxqz')\n",
    "    keyPairs = list(zip(keyList,etaoiList))\n",
    "    keyPairs.sort(key = getItemAtIndexOne)\n",
    "    \n",
    "    key = []\n",
    "    for keyPair in keyPairs:      \n",
    "        key.append(keyPair[0])\n",
    "    return ''.join(key)"
   ]
  },
  {
   "cell_type": "markdown",
   "metadata": {},
   "source": [
    "没有比要做histogram的迭代频率分析函数,因为直接简单的分析得到的结果通过评价函数得到的分数比明文还低,所以再做循环完全是没有任何必要的"
   ]
  },
  {
   "cell_type": "markdown",
   "metadata": {},
   "source": [
    "## Bigram下的频率分析"
   ]
  },
  {
   "cell_type": "markdown",
   "metadata": {},
   "source": [
    "### 第一步:由大数据文件中导出bigram频率作为标准频率"
   ]
  },
  {
   "cell_type": "markdown",
   "metadata": {},
   "source": [
    "**1.1**:生成所有由26个字母组成的bigram组合"
   ]
  },
  {
   "cell_type": "code",
   "execution_count": 54,
   "metadata": {},
   "outputs": [],
   "source": [
    "bigramLetters = []\n",
    "for letter1 in LETTERS:\n",
    "    for letter2 in LETTERS:\n",
    "        bigramLetters.append(letter1 + letter2) "
   ]
  },
  {
   "cell_type": "markdown",
   "metadata": {},
   "source": [
    "从text中获取其中所有bigram组合的函数"
   ]
  },
  {
   "cell_type": "code",
   "execution_count": 55,
   "metadata": {},
   "outputs": [],
   "source": [
    "def GetBigram(message):\n",
    "    #处理message,全部转化为小写，去掉换行，去掉非字母部分\n",
    "    message = StandardizeText(message)        \n",
    "    bigrams = list(ngrams(message,n=2))\n",
    "    \n",
    "    length = len(bigrams)\n",
    "    newBigrams = []\n",
    "    for i in range(length):\n",
    "        bigram = bigrams[i][0] + bigrams[i][1]\n",
    "        newBigrams.append(bigram)\n",
    "        \n",
    "    return newBigrams"
   ]
  },
  {
   "cell_type": "markdown",
   "metadata": {},
   "source": [
    "### 第二步:建立能从材料得到bigram数据的函数"
   ]
  },
  {
   "cell_type": "markdown",
   "metadata": {},
   "source": [
    "建立bigramCount函数,从材料中提取出bigram的频数,这一步暂且不计算频率和顺序"
   ]
  },
  {
   "cell_type": "code",
   "execution_count": 56,
   "metadata": {},
   "outputs": [],
   "source": [
    "from nltk import ngrams"
   ]
  },
  {
   "cell_type": "code",
   "execution_count": 57,
   "metadata": {},
   "outputs": [],
   "source": [
    "# 这个函数需要之前的那值为0的字典:bigramCountDict\n",
    "# 本函数不需要排序是因为提取大数据和样本都是用的同样的bigramCountDict种的顺序\n",
    "def bigramFreqExtract(message):\n",
    "# 0.每次清零bigramCount字典\n",
    "    bigramCount = dict(zip(bigramLetters,list(repeat(0,26 ** 2))))\n",
    "# 1.得到bigrams\n",
    "    bigramFromNewMessage = GetBigram(message) #这个函数中已将文字标准化\n",
    "# 2.得到频数\n",
    "    for bigram in bigramFromNewMessage:\n",
    "        bigramCount[bigram] += 1\n",
    "# 3.得到频率\n",
    "# 3.1先计算总数\n",
    "    AlphaNumber = 0\n",
    "    for letter in message:\n",
    "        if letter in LETTERS:\n",
    "            AlphaNumber += 1\n",
    "# 3.2计算频率\n",
    "    bigramCountValues = list(bigramCount.values())\n",
    "    bigramCountKeys = list(bigramCount.keys())\n",
    "    bigramCountValuesArray = np.asarray(bigramCountValues)\n",
    "    #和上面的bigramsNumFreq一致采用百分数\n",
    "    bigramFreqArray = (bigramCountValuesArray / AlphaNumber) * 100 \n",
    "    bigramFreqList = bigramFreqArray.tolist()\n",
    "    #这里得到字典是为了之后按照 bigramsNumFreq对应的顺序排序\n",
    "    bigramExtractDict = dict(zip(bigramCountKeys,bigramFreqList)) \n",
    "# 4.提取数据\n",
    "    bigramExtractDictPairs = list(bigramExtractDict.items())\n",
    "    bigramExtractNumFreq = []\n",
    "    for bigramExtractDictPair in bigramExtractDictPairs:\n",
    "        bigramExtractNumFreq.append(bigramExtractDictPair[1])\n",
    "\n",
    "    return bigramExtractNumFreq\n"
   ]
  },
  {
   "cell_type": "markdown",
   "metadata": {},
   "source": [
    "**2.1:** 用bgramFreqExtract函数导出EnglishData当中的bigram数据\n",
    "EnglishData就是histogram分析里面的'MobyDick.txt','UncleTom’sCabin.txt'文字材料"
   ]
  },
  {
   "cell_type": "code",
   "execution_count": 58,
   "metadata": {},
   "outputs": [],
   "source": [
    "# 先把bigram数据做好,保留下来,免得测量函数部分继续计算\n",
    "bigramNumFreq = bigramFreqExtract(EnglishData)"
   ]
  },
  {
   "cell_type": "markdown",
   "metadata": {},
   "source": [
    "### 第三步:建立测量函数"
   ]
  },
  {
   "cell_type": "markdown",
   "metadata": {},
   "source": [
    "建立函数bigramMatchScore函数,用于对比给定材料和通常英文材料之间的差异,分数越大差异越大"
   ]
  },
  {
   "cell_type": "code",
   "execution_count": 59,
   "metadata": {},
   "outputs": [],
   "source": [
    "def bigramMatchScore(message):\n",
    "    bigramExtractArray = np.asarray(bigramFreqExtract(message)) # 从需要频率分析的材料中提取出来的bigram数据\n",
    "    bigramDataArray = np.asarray(bigramNumFreq)                  # 从大数据文件中提取出来的bigram数据\n",
    "    bigramScore = np.sum(np.absolute(bigramExtractArray-bigramDataArray))\n",
    "    return bigramScore"
   ]
  },
  {
   "cell_type": "markdown",
   "metadata": {},
   "source": [
    "### 第四步:建立bigramAnalysis函数"
   ]
  },
  {
   "cell_type": "markdown",
   "metadata": {},
   "source": [
    "bigramAnalysis将由一个简单频率分析(Histogram)分析得到的key作为初始的key,然交换密钥中字母的顺序以得到更小的bigramScore"
   ]
  },
  {
   "cell_type": "code",
   "execution_count": 60,
   "metadata": {},
   "outputs": [],
   "source": [
    "from random import randint"
   ]
  },
  {
   "cell_type": "code",
   "execution_count": 61,
   "metadata": {},
   "outputs": [],
   "source": [
    "def bigramFreqAnalysis(Cipher,n):\n",
    "    #这里FreqOrderkey以及MonoAlphabeticCipher均内置将文字标准化的程序，因此不需要额外处理\n",
    "    FreqKey = FreqOrderkey(Cipher) #这里的key是按照频率排序来的,并不是标准格式的key,所以需要转换\n",
    "    key = convertKey(FreqKey)      #转换为标准格式的key\n",
    "    Translation = MonoAlphabeticCipher(key,Cipher,'decrypt')\n",
    "    Score = bigramMatchScore(Translation)\n",
    "# 1.按照频率对Freqkey进行交换,优化破译结果\n",
    "    for b in range(1,26):\n",
    "        a = 0\n",
    "        while a + b <= 25:\n",
    "            FreqKey0 = Swap(FreqKey,FreqKey[a],FreqKey[a + b]) #交换是按照频率顺序交换的,所以是交换Freqkey而不是标准key\n",
    "            key0 = convertKey(FreqKey0)\n",
    "            Translation0 = MonoAlphabeticCipher(key0,Cipher,'decrypt')\n",
    "            Score0 = bigramMatchScore(Translation0)\n",
    "            a += 1\n",
    "            if Score0 < Score:\n",
    "                FreqKey = FreqKey0\n",
    "                Translation = Translation0\n",
    "                Score = Score0\n",
    "# 2.往往第一阶段完成以后结果还不是最好,所以接下来随机的进行替换,使得结果更好\n",
    "\n",
    "    key = convertKey(FreqKey) #得到上一个阶段最后的密钥的标准格式\n",
    "    \n",
    "    for i in range(0,n):  # n是循环的次数\n",
    "        RandChoiceA = randint(0,25) #得到1到26的随机整数\n",
    "        RandChoiceB = randint(0,25)\n",
    "        if RandChoiceA != RandChoiceB:\n",
    "            key0 = Swap(key,key[RandChoiceA],key[RandChoiceB]) #随机交换密钥中两个字母的顺序\n",
    "            Translation0 = MonoAlphabeticCipher(key0,Cipher,'decrypt') # 解密\n",
    "            Score0 = bigramMatchScore(Translation0) # 评价\n",
    "            if Score0 < Score: #如果评价更好,得到新的密钥\n",
    "                key = key0\n",
    "                Translation = Translation0\n",
    "                Score = Score0\n",
    "    #去掉所有空格\n",
    "    result0 = []\n",
    "    \n",
    "    for letter in Translation:\n",
    "        if letter.isalpha():\n",
    "            result0.append(letter)\n",
    "                \n",
    "    return ''.join(result0)"
   ]
  },
  {
   "cell_type": "markdown",
   "metadata": {},
   "source": [
    "## 测试"
   ]
  },
  {
   "cell_type": "markdown",
   "metadata": {},
   "source": [
    "### 1:明文"
   ]
  },
  {
   "cell_type": "markdown",
   "metadata": {},
   "source": [
    "明文不需要预处理,因为处理的函数写进了每一个Exract函数"
   ]
  },
  {
   "cell_type": "code",
   "execution_count": 62,
   "metadata": {},
   "outputs": [
    {
     "data": {
      "text/plain": [
       "'\\nIn cryptography, a substitution cipher is a method of encrypting by which units of plaintext are replaced with ciphertext, according to a fixed system; the \"units\" may be single letters (the most common), pairs of letters, triplets of letters, mixtures of the above, and so forth. The receiver deciphers the text by performing the inverse substitution.\\n\\nSubstitution ciphers can be compared with transposition ciphers. In a transposition cipher, the units of the plaintext are rearranged in a different and usually quite complex order, but the units themselves are left unchanged. By contrast, in a substitution cipher, the units of the plaintext are retained in the same sequence in the ciphertext, but the units themselves are altered.\\n\\nThere are a number of different types of substitution cipher. If the cipher operates on single letters, it is termed a simple substitution cipher; a cipher that operates on larger groups of letters is termed polygraphic. A monoalphabetic cipher uses fixed substitution over the entire message, whereas a polyalphabetic cipher uses a number of substitutions at different positions in the message, where a unit from the plaintext is mapped to one of several possibilities in the ciphertext and vice versa. \\n'"
      ]
     },
     "execution_count": 62,
     "metadata": {},
     "output_type": "execute_result"
    }
   ],
   "source": [
    "PlainText = '''\n",
    "In cryptography, a substitution cipher is a method of encrypting by which units of plaintext are replaced with ciphertext, according to a fixed system; the \"units\" may be single letters (the most common), pairs of letters, triplets of letters, mixtures of the above, and so forth. The receiver deciphers the text by performing the inverse substitution.\n",
    "\n",
    "Substitution ciphers can be compared with transposition ciphers. In a transposition cipher, the units of the plaintext are rearranged in a different and usually quite complex order, but the units themselves are left unchanged. By contrast, in a substitution cipher, the units of the plaintext are retained in the same sequence in the ciphertext, but the units themselves are altered.\n",
    "\n",
    "There are a number of different types of substitution cipher. If the cipher operates on single letters, it is termed a simple substitution cipher; a cipher that operates on larger groups of letters is termed polygraphic. A monoalphabetic cipher uses fixed substitution over the entire message, whereas a polyalphabetic cipher uses a number of substitutions at different positions in the message, where a unit from the plaintext is mapped to one of several possibilities in the ciphertext and vice versa. \n",
    "'''\n",
    "PlainText"
   ]
  },
  {
   "cell_type": "markdown",
   "metadata": {},
   "source": [
    "### 2:生成随机密钥并加密"
   ]
  },
  {
   "cell_type": "code",
   "execution_count": 66,
   "metadata": {},
   "outputs": [
    {
     "name": "stdout",
     "output_type": "stream",
     "text": [
      "key:wykcmafinhsgbztdvjpourxleq\n",
      "\n",
      "Ciphertext:\n",
      "nzkje dotfj wdiew puypo nouon tzknd imjnp wbmoi tctam zkjed onzfy exink iuzno ptadg wnzom lowjm jmdgw kmcxn oiknd imjom lowkk tjcnz fotwa nlmcp epomb oimuz nopbw eympn zfgmg moomj poimb tpokt bbtzd wnjpt agmoo mjpoj ndgmo ptagm oomjp bnlou jmpta oimwy trmwz cptat joioi mjmkm nrmjc mkndi mjpoi momlo yedmj atjbn zfoim nzrmj pmpuy ponou ontzp uypon ouont zkndi mjpkw zymkt bdwjm cxnoi ojwzp dtpno ntzkn dimjp nzwoj wzpdt pnont zkndi mjoim uznop taoim dgwnz omlow jmjmw jjwzf mcnzw cnaam jmzow zcupu wggev unomk tbdgm ltjcm jyuoo imuzn opoim bpmgr mpwjm gmaou zkiwz fmcye ktzoj wponz wpuyp onouo ntzkn dimjo imuzn optao imdgw nzoml owjmj mownz mcnzo impwb mpmvu mzkmn zoimk ndimj omloy uooim uznop oimbp mgrmp wjmwg omjmc oimjm wjmwz ubymj tacna amjmz ooedm ptapu ypono uontz kndim jnaoi mkndi mjtdm jwomp tzpnz fgmgm oomjp nonpo mjbmc wpnbd gmpuy ponou ontzk ndimj wkndi mjoiw otdmj wompt zgwjf mjfjt udpta gmoom jpnpo mjbmc dtgef jwdin kwbtz twgdi wymon kkndi mjupm panlm cpuyp onouo ntztr mjoim mzonj mbmpp wfmxi mjmwp wdtge wgdiw ymonk kndim jupmp wzuby mjtap uypon ouont zpwoc naamj mzodt pnont zpnzo imbmp pwfmx imjmw uznoa jtboi mdgwn zomlo npbwd dmcot tzmta pmrmj wgdtp pnyng nonmp nzoim kndim jomlo wzcrn kmrmj pw                                                                                                                                                                                                                                                                                                                                                                                                                                                                                                                                                                                                                                                                                                                                                                                                                                              \n"
     ]
    }
   ],
   "source": [
    "key = 'wykcmafinhsgbztdvjpourxleq'\n",
    "Cipher = MonoAlphabeticCipher(key,PlainText,'encrypt')\n",
    "print('key:%s\\n' %(key))\n",
    "print('Ciphertext:\\n%s' %(Cipher))"
   ]
  },
  {
   "cell_type": "markdown",
   "metadata": {},
   "source": [
    "### 3:测试bigram频率分析"
   ]
  },
  {
   "cell_type": "code",
   "execution_count": 67,
   "metadata": {},
   "outputs": [],
   "source": [
    "import time "
   ]
  },
  {
   "cell_type": "code",
   "execution_count": 68,
   "metadata": {},
   "outputs": [
    {
     "name": "stdout",
     "output_type": "stream",
     "text": [
      "破译结果:\n",
      "incryptographyasubstitutioncipherisamethodofencryptingbywhichunitsofplaintektarereplacedwithciphertektaccordingtoafikedsystemtheunitsmaybesinglelettersthemostcommonpairsofletterstripletsoflettersmikturesoftheaboveandsoforththereceiverdeciphersthetektbyperformingtheinversesubstitutionsubstitutioncipherscanbecomparedwithtranspositionciphersinatranspositionciphertheunitsoftheplaintektarerearrangedinadifferentandusuallyquitecomplekorderbuttheunitsthemselvesareleftunchangedbycontrastinasubstitutionciphertheunitsoftheplaintektareretainedinthesamesequenceintheciphertektbuttheunitsthemselvesarealteredthereareanumberofdifferenttypesofsubstitutioncipherifthecipheroperatesonsinglelettersitistermedasimplesubstitutioncipheracipherthatoperatesonlargergroupsoflettersistermedpolygraphicamonoalphabeticcipherusesfikedsubstitutionovertheentiremessagewhereasapolyalphabeticcipherusesanumberofsubstitutionsatdifferentpositionsinthemessagewhereaunitfromtheplaintektismappedtooneofseveralpossibilitiesintheciphertektandviceversa\n",
      "破译评价:\n",
      "==============破译时间:6.825185775756836 seconds\n",
      "==============明文得分:75.73374004389954 ponints\n",
      "==============密文得分:157.88134619329398 ponints\n",
      "==============histogram译文得分:117.58754543325884 ponints\n",
      "==============bigram译文得分:75.42673630844452 ponints\n"
     ]
    }
   ],
   "source": [
    "start = time.time()\n",
    "bigramDecrypt = bigramFreqAnalysis(Cipher,2000)\n",
    "end = time.time()\n",
    "\n",
    "convertKey(FreqOrderkey(Cipher))\n",
    "simpleDecrypt = MonoAlphabeticCipher(convertKey(FreqOrderkey(Cipher)),Cipher,'decrypt')\n",
    "\n",
    "print('破译结果:')                   \n",
    "print(bigramDecrypt)\n",
    "print('破译评价:')\n",
    "print('==============破译时间:%s seconds'%(end-start))\n",
    "print('==============明文得分:%s ponints'%(bigramMatchScore(PlainText)))\n",
    "print('==============密文得分:%s ponints'%(bigramMatchScore(Cipher)))\n",
    "print('==============histogram译文得分:%s ponints'%(bigramMatchScore(simpleDecrypt)))\n",
    "print('==============bigram译文得分:%s ponints'%(bigramMatchScore(bigramDecrypt)))"
   ]
  }
 ],
 "metadata": {
  "kernelspec": {
   "display_name": "Python 3",
   "language": "python",
   "name": "python3"
  },
  "language_info": {
   "codemirror_mode": {
    "name": "ipython",
    "version": 3
   },
   "file_extension": ".py",
   "mimetype": "text/x-python",
   "name": "python",
   "nbconvert_exporter": "python",
   "pygments_lexer": "ipython3",
   "version": "3.7.1"
  }
 },
 "nbformat": 4,
 "nbformat_minor": 2
}
